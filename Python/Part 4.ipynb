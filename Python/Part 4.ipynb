{
 "cells": [
  {
   "cell_type": "markdown",
   "metadata": {
    "id": "xGJRmbOj1m6n"
   },
   "source": [
    "## Project - Neural Networks - Part 4"
   ]
  },
  {
   "cell_type": "markdown",
   "metadata": {
    "id": "mSnjdKmpG82x"
   },
   "source": [
    "## 1 Import the data."
   ]
  },
  {
   "cell_type": "markdown",
   "metadata": {
    "id": "8z2Z7-OAs8QG"
   },
   "source": [
    "Mounting the drive"
   ]
  },
  {
   "cell_type": "code",
   "execution_count": 1,
   "metadata": {
    "colab": {
     "base_uri": "https://localhost:8080/"
    },
    "id": "REFUdThmpz_d",
    "outputId": "4b64537a-9706-4812-eee0-280f17df71b3"
   },
   "outputs": [
    {
     "name": "stdout",
     "output_type": "stream",
     "text": [
      "Mounted at /content/drive\n"
     ]
    }
   ],
   "source": [
    "from google.colab import drive\n",
    "drive.mount('/content/drive')"
   ]
  },
  {
   "cell_type": "markdown",
   "metadata": {
    "id": "ucnevGLoyKf_"
   },
   "source": [
    "Checking the version of installed tensorflow."
   ]
  },
  {
   "cell_type": "code",
   "execution_count": 2,
   "metadata": {
    "colab": {
     "base_uri": "https://localhost:8080/"
    },
    "id": "W5as47YxyJVk",
    "outputId": "77f8d501-2d09-4b2c-be41-539232ae31c9"
   },
   "outputs": [
    {
     "name": "stdout",
     "output_type": "stream",
     "text": [
      "2.4.1\n"
     ]
    }
   ],
   "source": [
    "# used to supress display of warnings\n",
    "import warnings\n",
    "\n",
    "# os is used to provide a way of using operating system dependent functionality\n",
    "# We use it for setting working folder\n",
    "import os\n",
    "\n",
    "# Pandas is used for data manipulation and analysis\n",
    "import pandas as pd \n",
    "\n",
    "# Numpy is used for large, multi-dimensional arrays and matrices, along with mathematical operators on these arrays\n",
    "import numpy as np\n",
    "\n",
    "# Matplotlib is a data visualization library for 2D plots of arrays, built on NumPy arrays \n",
    "# and designed to work with the broader SciPy stack\n",
    "import matplotlib.pyplot as plt\n",
    "%matplotlib inline\n",
    "from matplotlib import pyplot\n",
    "\n",
    "# Seaborn is based on matplotlib, which aids in drawing attractive and informative statistical graphics.\n",
    "import seaborn as sns\n",
    "import tensorflow \n",
    "print(tensorflow.__version__)"
   ]
  },
  {
   "cell_type": "code",
   "execution_count": 3,
   "metadata": {
    "id": "qCKU7-YkHDq3"
   },
   "outputs": [],
   "source": [
    "# suppress display of warnings\n",
    "warnings.filterwarnings('ignore')\n",
    "\n",
    "# display all dataframe columns\n",
    "pd.options.display.max_columns = None\n",
    "\n",
    "# to set the limit to 3 decimals\n",
    "pd.options.display.float_format = '{:.7f}'.format\n",
    "\n",
    "# display all dataframe rows\n",
    "pd.options.display.max_rows = None"
   ]
  },
  {
   "cell_type": "markdown",
   "metadata": {
    "id": "8lsux2ZwyTTR"
   },
   "source": [
    "Let us now, load the dataset that is available as a .h5 file"
   ]
  },
  {
   "cell_type": "code",
   "execution_count": 4,
   "metadata": {
    "colab": {
     "base_uri": "https://localhost:8080/"
    },
    "id": "BApX9qgNsqV0",
    "outputId": "13e451b1-2432-48fd-aed7-7863a689812e",
    "scrolled": true
   },
   "outputs": [
    {
     "data": {
      "text/plain": [
       "<KeysViewHDF5 ['X_test', 'X_train', 'X_val', 'y_test', 'y_train', 'y_val']>"
      ]
     },
     "execution_count": 4,
     "metadata": {
      "tags": []
     },
     "output_type": "execute_result"
    }
   ],
   "source": [
    "import h5py\n",
    "\n",
    "# Open the file as readonly\n",
    "h5f = h5py.File('/content/drive/My Drive/Data/Autonomous_Vehicles_SVHN_single_grey1.h5', 'r')\n",
    "\n",
    "h5f.keys()"
   ]
  },
  {
   "cell_type": "markdown",
   "metadata": {
    "id": "RDORGE7AHWtV"
   },
   "source": [
    "## 2. Data pre-processing & visualisation"
   ]
  },
  {
   "cell_type": "code",
   "execution_count": 5,
   "metadata": {
    "id": "aKEpYZ4w2yjg"
   },
   "outputs": [],
   "source": [
    "# Load the training, test and validation set\n",
    "X_train = h5f['X_train'][:]\n",
    "y_train = h5f['y_train'][:]\n",
    "X_test = h5f['X_test'][:]\n",
    "y_test = h5f['y_test'][:]"
   ]
  },
  {
   "cell_type": "markdown",
   "metadata": {
    "id": "ZJHUOjjM3aUH"
   },
   "source": [
    "Checking few contents of features and labels of one example from the images"
   ]
  },
  {
   "cell_type": "code",
   "execution_count": 6,
   "metadata": {
    "colab": {
     "base_uri": "https://localhost:8080/"
    },
    "id": "J4rkRt553Ipq",
    "outputId": "ab8849d8-1754-4039-e425-87842a8c0213"
   },
   "outputs": [
    {
     "data": {
      "text/plain": [
       "array([[[ 33.0704,  30.2601,  26.852 , ...,  71.4471,  58.2204,\n",
       "          42.9939],\n",
       "        [ 25.2283,  25.5533,  29.9765, ..., 113.0209, 103.3639,\n",
       "          84.2949],\n",
       "        [ 26.2775,  22.6137,  40.4763, ..., 113.3028, 121.775 ,\n",
       "         115.4228],\n",
       "        ...,\n",
       "        [ 28.5502,  36.212 ,  45.0801, ...,  24.1359,  25.0927,\n",
       "          26.0603],\n",
       "        [ 38.4352,  26.4733,  23.2717, ...,  28.1094,  29.4683,\n",
       "          30.0661],\n",
       "        [ 50.2984,  26.0773,  24.0389, ...,  49.6682,  50.853 ,\n",
       "          53.0377]]], dtype=float32)"
      ]
     },
     "execution_count": 6,
     "metadata": {
      "tags": []
     },
     "output_type": "execute_result"
    }
   ],
   "source": [
    "X_train[:1]    "
   ]
  },
  {
   "cell_type": "code",
   "execution_count": 7,
   "metadata": {
    "colab": {
     "base_uri": "https://localhost:8080/"
    },
    "id": "prCBSrZg3SFQ",
    "outputId": "d8c65b5c-fe69-4623-dfe9-85360f111012"
   },
   "outputs": [
    {
     "data": {
      "text/plain": [
       "array([2], dtype=uint8)"
      ]
     },
     "execution_count": 7,
     "metadata": {
      "tags": []
     },
     "output_type": "execute_result"
    }
   ],
   "source": [
    "y_train[:1]"
   ]
  },
  {
   "cell_type": "code",
   "execution_count": 8,
   "metadata": {
    "colab": {
     "base_uri": "https://localhost:8080/"
    },
    "id": "kHhJ7jTd3mKk",
    "outputId": "a343ed29-1285-4cda-f795-b6f897a73286"
   },
   "outputs": [
    {
     "data": {
      "text/plain": [
       "array([[[ 40.558 ,  46.7917,  48.9764, ..., 112.1153, 112.9904,\n",
       "         112.1646],\n",
       "        [ 39.4379,  44.2911,  47.1768, ..., 111.0122, 110.9475,\n",
       "         109.9368],\n",
       "        [ 38.4488,  43.6394,  48.7098, ..., 109.8921, 109.9414,\n",
       "         109.1048],\n",
       "        ...,\n",
       "        [ 34.9869,  35.4707,  39.6676, ..., 109.211 , 109.9074,\n",
       "         112.7346],\n",
       "        [ 35.6602,  35.5462,  40.3193, ..., 110.9998, 112.049 ,\n",
       "         114.3431],\n",
       "        [ 36.1871,  35.4214,  40.6998, ..., 110.0169, 111.2017,\n",
       "         114.1906]]], dtype=float32)"
      ]
     },
     "execution_count": 8,
     "metadata": {
      "tags": []
     },
     "output_type": "execute_result"
    }
   ],
   "source": [
    "X_test[:1]"
   ]
  },
  {
   "cell_type": "code",
   "execution_count": 9,
   "metadata": {
    "colab": {
     "base_uri": "https://localhost:8080/"
    },
    "id": "Qr4Nz_v03nm-",
    "outputId": "56c6e1cf-c269-46b0-d3ca-cc97b73b37d1"
   },
   "outputs": [
    {
     "data": {
      "text/plain": [
       "array([1], dtype=uint8)"
      ]
     },
     "execution_count": 9,
     "metadata": {
      "tags": []
     },
     "output_type": "execute_result"
    }
   ],
   "source": [
    "y_test[:1]"
   ]
  },
  {
   "cell_type": "markdown",
   "metadata": {
    "id": "kxODV6HKykuc"
   },
   "source": [
    "Visualising the first 10 images in the dataset."
   ]
  },
  {
   "cell_type": "code",
   "execution_count": 10,
   "metadata": {
    "colab": {
     "base_uri": "https://localhost:8080/",
     "height": 95
    },
    "id": "Bvsc8ytHsqWD",
    "outputId": "a8fa3e6a-7274-468b-c5a2-187bab5a3bc4"
   },
   "outputs": [
    {
     "data": {
      "image/png": "[encoded data removed]",
      "text/plain": [
       "<Figure size 720x72 with 10 Axes>"
      ]
     },
     "metadata": {
      "needs_background": "light",
      "tags": []
     },
     "output_type": "display_data"
    },
    {
     "name": "stdout",
     "output_type": "stream",
     "text": [
      "label for each of the above image: [2 6 7 4 4 0 3 0 7 3]\n"
     ]
    }
   ],
   "source": [
    "# visualizing the first 10 images in the dataset and their labels\n",
    "%matplotlib inline\n",
    "import matplotlib.pyplot as plt\n",
    "plt.figure(figsize=(10, 1))\n",
    "for i in range(10):\n",
    "    plt.subplot(1, 10, i+1)\n",
    "    plt.imshow(X_train[i], cmap=\"gray\")\n",
    "    plt.axis('off')\n",
    "plt.show()\n",
    "print('label for each of the above image: %s' % (y_train[0:10]))"
   ]
  },
  {
   "cell_type": "markdown",
   "metadata": {
    "id": "y1ZC0x0I3-jo"
   },
   "source": [
    "Checking the shape of the data"
   ]
  },
  {
   "cell_type": "code",
   "execution_count": 11,
   "metadata": {
    "colab": {
     "base_uri": "https://localhost:8080/"
    },
    "id": "Ju4-rQ9y39RW",
    "outputId": "306cbade-be11-4f4b-c13c-47673177d91e"
   },
   "outputs": [
    {
     "data": {
      "text/plain": [
       "(42000, 32, 32)"
      ]
     },
     "execution_count": 11,
     "metadata": {
      "tags": []
     },
     "output_type": "execute_result"
    }
   ],
   "source": [
    "X_train.shape"
   ]
  },
  {
   "cell_type": "code",
   "execution_count": 12,
   "metadata": {
    "colab": {
     "base_uri": "https://localhost:8080/"
    },
    "id": "V_3SxY7O4DJB",
    "outputId": "5d42b6bd-4ff3-4593-9a85-787cb02dbd26"
   },
   "outputs": [
    {
     "data": {
      "text/plain": [
       "(42000,)"
      ]
     },
     "execution_count": 12,
     "metadata": {
      "tags": []
     },
     "output_type": "execute_result"
    }
   ],
   "source": [
    "y_train.shape"
   ]
  },
  {
   "cell_type": "markdown",
   "metadata": {
    "id": "kzoyeXHOy80N"
   },
   "source": [
    "Need to reshape the X_train and X_test so that the same can be fed for model building. Currently we have a 3D tensor and we need to feed a 2D tensor into the model.\n",
    "\n",
    "- We will normalize the data. We divide by 255 as this is a grayscale image and can take values from 0-255\n"
   ]
  },
  {
   "cell_type": "code",
   "execution_count": 13,
   "metadata": {
    "colab": {
     "base_uri": "https://localhost:8080/"
    },
    "id": "D9YPwf9ysqWU",
    "outputId": "709f501e-9ac9-4f4e-9d97-c3fdbfdc9870"
   },
   "outputs": [
    {
     "name": "stdout",
     "output_type": "stream",
     "text": [
      "Resized Training set (42000, 1024, 1) (42000,)\n",
      "Resized Test set (18000, 1024, 1) (18000,)\n"
     ]
    }
   ],
   "source": [
    "X_train = X_train.reshape(X_train.shape[0], 1024, 1)\n",
    "X_test = X_test.reshape(X_test.shape[0], 1024, 1)\n",
    "\n",
    "# # normalize inputs from 0-255 to 0-1\n",
    "X_train = X_train / 255.0\n",
    "X_test = X_test / 255.0\n",
    "\n",
    "print('Resized Training set', X_train.shape, y_train.shape)\n",
    "print('Resized Test set', X_test.shape, y_test.shape)"
   ]
  },
  {
   "cell_type": "markdown",
   "metadata": {
    "id": "bogxx3cezol1"
   },
   "source": [
    "Encoding the target variables. We need to one hot encode the labels for the model to understand the labels better. We will be using categorical cross entropy as our loss function and for this purpose we need our labels to be in one hot encoded format."
   ]
  },
  {
   "cell_type": "code",
   "execution_count": 14,
   "metadata": {
    "colab": {
     "base_uri": "https://localhost:8080/"
    },
    "id": "zL0lYER4sqWw",
    "outputId": "8b4db398-2146-4e6d-f8c5-2618d17d30a5"
   },
   "outputs": [
    {
     "name": "stdout",
     "output_type": "stream",
     "text": [
      "The number of classes in this dataset are: 10\n"
     ]
    }
   ],
   "source": [
    "from tensorflow.keras.utils import to_categorical\n",
    "# one hot encode outputs\n",
    "y_train = to_categorical(y_train)\n",
    "y_test = to_categorical(y_test)\n",
    "\n",
    "# no.of classes\n",
    "num_classes = y_test.shape[1] \n",
    "print(\"The number of classes in this dataset are:\",num_classes)"
   ]
  },
  {
   "cell_type": "markdown",
   "metadata": {
    "id": "xztigzzfITt-"
   },
   "source": [
    "\n",
    "\n",
    "```\n",
    "# This is formatted as code\n",
    "```\n",
    "\n",
    "## 3. Designing, training, tuning and testing a neural network image classifier."
   ]
  },
  {
   "cell_type": "markdown",
   "metadata": {
    "id": "UJDUoaEj1d6e"
   },
   "source": [
    "#### Building the neural network model, fitting the training data, testing it and providing model summary. "
   ]
  },
  {
   "cell_type": "code",
   "execution_count": 15,
   "metadata": {
    "id": "Cmi81Gr5sqW-"
   },
   "outputs": [],
   "source": [
    "# define model\n",
    "\n",
    "from tensorflow.keras import optimizers\n",
    "from tensorflow.keras.models import Sequential\n",
    "from tensorflow.keras.layers import Dense, Flatten\n",
    "\n",
    "def nn_model():\n",
    "    # create model\n",
    "    model = Sequential()  \n",
    "    model.add(Flatten())\n",
    "    model.add(Dense(256, activation='relu')) ###Multiple Dense units with Relu activation\n",
    "    model.add(Dense(64, activation='relu'))\n",
    "    model.add(Dense(64, activation='relu'))\n",
    "    model.add(Dense(32, activation='relu'))\n",
    "    model.add(Dense(num_classes, activation='softmax'))\n",
    "    return model"
   ]
  },
  {
   "cell_type": "markdown",
   "metadata": {
    "id": "QbGCdivk6gM7"
   },
   "source": [
    "Creating an object of our model"
   ]
  },
  {
   "cell_type": "code",
   "execution_count": 16,
   "metadata": {
    "id": "geazN4wi6Y84"
   },
   "outputs": [],
   "source": [
    "# build the model\n",
    "model = nn_model()"
   ]
  },
  {
   "cell_type": "code",
   "execution_count": 17,
   "metadata": {
    "id": "Mfh8tFcB7oj4"
   },
   "outputs": [],
   "source": [
    "# Compile model\n",
    "sgd = optimizers.Adam(lr=1e-3)\n",
    "\n",
    "### Loss function = Categorical cross entropy\n",
    "model.compile(loss='categorical_crossentropy', optimizer=sgd, metrics=['accuracy']) "
   ]
  },
  {
   "cell_type": "markdown",
   "metadata": {
    "id": "5t90ufg46jLl"
   },
   "source": [
    "Fitting the model on the training dataset along with it's equivalent one hot encoded labels"
   ]
  },
  {
   "cell_type": "code",
   "execution_count": 18,
   "metadata": {
    "colab": {
     "base_uri": "https://localhost:8080/"
    },
    "id": "It28yqDu6dLW",
    "outputId": "c61aa242-2935-4528-8fcd-a37d513753bb"
   },
   "outputs": [
    {
     "name": "stdout",
     "output_type": "stream",
     "text": [
      "Epoch 1/100\n",
      "140/140 - 4s - loss: 2.3015 - accuracy: 0.1086 - val_loss: 2.2705 - val_accuracy: 0.1313\n",
      "Epoch 2/100\n",
      "140/140 - 0s - loss: 2.1670 - accuracy: 0.1952 - val_loss: 1.9661 - val_accuracy: 0.2987\n",
      "Epoch 3/100\n",
      "140/140 - 0s - loss: 1.7231 - accuracy: 0.4030 - val_loss: 1.5149 - val_accuracy: 0.4902\n",
      "Epoch 4/100\n",
      "140/140 - 0s - loss: 1.4136 - accuracy: 0.5320 - val_loss: 1.2990 - val_accuracy: 0.5783\n",
      "Epoch 5/100\n",
      "140/140 - 0s - loss: 1.2865 - accuracy: 0.5821 - val_loss: 1.2255 - val_accuracy: 0.6043\n",
      "Epoch 6/100\n",
      "140/140 - 0s - loss: 1.1954 - accuracy: 0.6179 - val_loss: 1.1652 - val_accuracy: 0.6282\n",
      "Epoch 7/100\n",
      "140/140 - 0s - loss: 1.1394 - accuracy: 0.6398 - val_loss: 1.1142 - val_accuracy: 0.6457\n",
      "Epoch 8/100\n",
      "140/140 - 0s - loss: 1.0855 - accuracy: 0.6588 - val_loss: 1.0712 - val_accuracy: 0.6641\n",
      "Epoch 9/100\n",
      "140/140 - 0s - loss: 1.0450 - accuracy: 0.6740 - val_loss: 1.0296 - val_accuracy: 0.6799\n",
      "Epoch 10/100\n",
      "140/140 - 0s - loss: 1.0166 - accuracy: 0.6837 - val_loss: 1.0040 - val_accuracy: 0.6886\n",
      "Epoch 11/100\n",
      "140/140 - 0s - loss: 0.9920 - accuracy: 0.6928 - val_loss: 1.0023 - val_accuracy: 0.6874\n",
      "Epoch 12/100\n",
      "140/140 - 0s - loss: 0.9569 - accuracy: 0.7018 - val_loss: 0.9442 - val_accuracy: 0.7102\n",
      "Epoch 13/100\n",
      "140/140 - 0s - loss: 0.9249 - accuracy: 0.7141 - val_loss: 0.9841 - val_accuracy: 0.7033\n",
      "Epoch 14/100\n",
      "140/140 - 0s - loss: 0.8970 - accuracy: 0.7236 - val_loss: 0.9345 - val_accuracy: 0.7205\n",
      "Epoch 15/100\n",
      "140/140 - 0s - loss: 0.8653 - accuracy: 0.7332 - val_loss: 0.8972 - val_accuracy: 0.7290\n",
      "Epoch 16/100\n",
      "140/140 - 0s - loss: 0.8551 - accuracy: 0.7384 - val_loss: 0.8640 - val_accuracy: 0.7410\n",
      "Epoch 17/100\n",
      "140/140 - 0s - loss: 0.8347 - accuracy: 0.7436 - val_loss: 0.8796 - val_accuracy: 0.7329\n",
      "Epoch 18/100\n",
      "140/140 - 0s - loss: 0.8083 - accuracy: 0.7522 - val_loss: 0.8605 - val_accuracy: 0.7362\n",
      "Epoch 19/100\n",
      "140/140 - 0s - loss: 0.8060 - accuracy: 0.7509 - val_loss: 0.8300 - val_accuracy: 0.7524\n",
      "Epoch 20/100\n",
      "140/140 - 0s - loss: 0.7896 - accuracy: 0.7598 - val_loss: 0.8422 - val_accuracy: 0.7439\n",
      "Epoch 21/100\n",
      "140/140 - 0s - loss: 0.7728 - accuracy: 0.7633 - val_loss: 0.8135 - val_accuracy: 0.7543\n",
      "Epoch 22/100\n",
      "140/140 - 0s - loss: 0.7601 - accuracy: 0.7660 - val_loss: 0.9244 - val_accuracy: 0.7186\n",
      "Epoch 23/100\n",
      "140/140 - 0s - loss: 0.7451 - accuracy: 0.7722 - val_loss: 0.7928 - val_accuracy: 0.7604\n",
      "Epoch 24/100\n",
      "140/140 - 0s - loss: 0.7400 - accuracy: 0.7723 - val_loss: 0.7858 - val_accuracy: 0.7649\n",
      "Epoch 25/100\n",
      "140/140 - 0s - loss: 0.7308 - accuracy: 0.7755 - val_loss: 0.8194 - val_accuracy: 0.7537\n",
      "Epoch 26/100\n",
      "140/140 - 0s - loss: 0.7140 - accuracy: 0.7823 - val_loss: 0.7694 - val_accuracy: 0.7690\n",
      "Epoch 27/100\n",
      "140/140 - 0s - loss: 0.7107 - accuracy: 0.7829 - val_loss: 0.7653 - val_accuracy: 0.7693\n",
      "Epoch 28/100\n",
      "140/140 - 0s - loss: 0.6927 - accuracy: 0.7870 - val_loss: 0.7643 - val_accuracy: 0.7755\n",
      "Epoch 29/100\n",
      "140/140 - 0s - loss: 0.6894 - accuracy: 0.7883 - val_loss: 0.7793 - val_accuracy: 0.7686\n",
      "Epoch 30/100\n",
      "140/140 - 0s - loss: 0.6820 - accuracy: 0.7903 - val_loss: 0.7752 - val_accuracy: 0.7654\n",
      "Epoch 31/100\n",
      "140/140 - 0s - loss: 0.6716 - accuracy: 0.7939 - val_loss: 0.7480 - val_accuracy: 0.7780\n",
      "Epoch 32/100\n",
      "140/140 - 0s - loss: 0.6710 - accuracy: 0.7934 - val_loss: 0.7713 - val_accuracy: 0.7671\n",
      "Epoch 33/100\n",
      "140/140 - 0s - loss: 0.6657 - accuracy: 0.7950 - val_loss: 0.7853 - val_accuracy: 0.7636\n",
      "Epoch 34/100\n",
      "140/140 - 0s - loss: 0.6536 - accuracy: 0.7987 - val_loss: 0.7267 - val_accuracy: 0.7835\n",
      "Epoch 35/100\n",
      "140/140 - 0s - loss: 0.6445 - accuracy: 0.8022 - val_loss: 0.7437 - val_accuracy: 0.7781\n",
      "Epoch 36/100\n",
      "140/140 - 0s - loss: 0.6352 - accuracy: 0.8030 - val_loss: 0.7415 - val_accuracy: 0.7797\n",
      "Epoch 37/100\n",
      "140/140 - 0s - loss: 0.6264 - accuracy: 0.8065 - val_loss: 0.7553 - val_accuracy: 0.7730\n",
      "Epoch 38/100\n",
      "140/140 - 0s - loss: 0.6298 - accuracy: 0.8059 - val_loss: 0.7151 - val_accuracy: 0.7878\n",
      "Epoch 39/100\n",
      "140/140 - 0s - loss: 0.6161 - accuracy: 0.8106 - val_loss: 0.7388 - val_accuracy: 0.7778\n",
      "Epoch 40/100\n",
      "140/140 - 0s - loss: 0.6201 - accuracy: 0.8064 - val_loss: 0.7134 - val_accuracy: 0.7905\n",
      "Epoch 41/100\n",
      "140/140 - 0s - loss: 0.6101 - accuracy: 0.8087 - val_loss: 0.7235 - val_accuracy: 0.7878\n",
      "Epoch 42/100\n",
      "140/140 - 0s - loss: 0.6045 - accuracy: 0.8134 - val_loss: 0.7402 - val_accuracy: 0.7767\n",
      "Epoch 43/100\n",
      "140/140 - 0s - loss: 0.5955 - accuracy: 0.8167 - val_loss: 0.7525 - val_accuracy: 0.7759\n",
      "Epoch 44/100\n",
      "140/140 - 0s - loss: 0.5917 - accuracy: 0.8151 - val_loss: 0.7111 - val_accuracy: 0.7916\n",
      "Epoch 45/100\n",
      "140/140 - 0s - loss: 0.5911 - accuracy: 0.8161 - val_loss: 0.7111 - val_accuracy: 0.7891\n",
      "Epoch 46/100\n",
      "140/140 - 0s - loss: 0.5802 - accuracy: 0.8184 - val_loss: 0.7054 - val_accuracy: 0.7933\n",
      "Epoch 47/100\n",
      "140/140 - 0s - loss: 0.5733 - accuracy: 0.8204 - val_loss: 0.6950 - val_accuracy: 0.7962\n",
      "Epoch 48/100\n",
      "140/140 - 0s - loss: 0.5768 - accuracy: 0.8201 - val_loss: 0.7098 - val_accuracy: 0.7934\n",
      "Epoch 49/100\n",
      "140/140 - 0s - loss: 0.5789 - accuracy: 0.8191 - val_loss: 0.6953 - val_accuracy: 0.7932\n",
      "Epoch 50/100\n",
      "140/140 - 0s - loss: 0.5621 - accuracy: 0.8240 - val_loss: 0.6989 - val_accuracy: 0.7939\n",
      "Epoch 51/100\n",
      "140/140 - 0s - loss: 0.5614 - accuracy: 0.8255 - val_loss: 0.7188 - val_accuracy: 0.7858\n",
      "Epoch 52/100\n",
      "140/140 - 1s - loss: 0.5501 - accuracy: 0.8282 - val_loss: 0.6776 - val_accuracy: 0.7994\n",
      "Epoch 53/100\n",
      "140/140 - 0s - loss: 0.5435 - accuracy: 0.8305 - val_loss: 0.7012 - val_accuracy: 0.7957\n",
      "Epoch 54/100\n",
      "140/140 - 0s - loss: 0.5449 - accuracy: 0.8289 - val_loss: 0.6969 - val_accuracy: 0.7927\n",
      "Epoch 55/100\n",
      "140/140 - 0s - loss: 0.5409 - accuracy: 0.8317 - val_loss: 0.6722 - val_accuracy: 0.8028\n",
      "Epoch 56/100\n",
      "140/140 - 0s - loss: 0.5318 - accuracy: 0.8329 - val_loss: 0.6920 - val_accuracy: 0.7953\n",
      "Epoch 57/100\n",
      "140/140 - 0s - loss: 0.5413 - accuracy: 0.8302 - val_loss: 0.6954 - val_accuracy: 0.7973\n",
      "Epoch 58/100\n",
      "140/140 - 0s - loss: 0.5384 - accuracy: 0.8327 - val_loss: 0.6782 - val_accuracy: 0.8009\n",
      "Epoch 59/100\n",
      "140/140 - 0s - loss: 0.5254 - accuracy: 0.8362 - val_loss: 0.6981 - val_accuracy: 0.7960\n",
      "Epoch 60/100\n",
      "140/140 - 0s - loss: 0.5261 - accuracy: 0.8342 - val_loss: 0.6936 - val_accuracy: 0.8017\n",
      "Epoch 61/100\n",
      "140/140 - 0s - loss: 0.5224 - accuracy: 0.8368 - val_loss: 0.6873 - val_accuracy: 0.7998\n",
      "Epoch 62/100\n",
      "140/140 - 0s - loss: 0.5206 - accuracy: 0.8372 - val_loss: 0.6757 - val_accuracy: 0.8049\n",
      "Epoch 63/100\n",
      "140/140 - 0s - loss: 0.5160 - accuracy: 0.8398 - val_loss: 0.7031 - val_accuracy: 0.7926\n",
      "Epoch 64/100\n",
      "140/140 - 0s - loss: 0.5121 - accuracy: 0.8393 - val_loss: 0.7022 - val_accuracy: 0.7955\n",
      "Epoch 65/100\n",
      "140/140 - 0s - loss: 0.5027 - accuracy: 0.8430 - val_loss: 0.6925 - val_accuracy: 0.7989\n",
      "Epoch 66/100\n",
      "140/140 - 0s - loss: 0.5094 - accuracy: 0.8410 - val_loss: 0.6942 - val_accuracy: 0.7999\n",
      "Epoch 67/100\n",
      "140/140 - 0s - loss: 0.4932 - accuracy: 0.8469 - val_loss: 0.6645 - val_accuracy: 0.8054\n",
      "Epoch 68/100\n",
      "140/140 - 0s - loss: 0.5003 - accuracy: 0.8440 - val_loss: 0.6771 - val_accuracy: 0.8026\n",
      "Epoch 69/100\n",
      "140/140 - 0s - loss: 0.4958 - accuracy: 0.8447 - val_loss: 0.6667 - val_accuracy: 0.8055\n",
      "Epoch 70/100\n",
      "140/140 - 0s - loss: 0.4924 - accuracy: 0.8460 - val_loss: 0.6647 - val_accuracy: 0.8076\n",
      "Epoch 71/100\n",
      "140/140 - 0s - loss: 0.4912 - accuracy: 0.8455 - val_loss: 0.6812 - val_accuracy: 0.8035\n",
      "Epoch 72/100\n",
      "140/140 - 0s - loss: 0.4945 - accuracy: 0.8443 - val_loss: 0.6735 - val_accuracy: 0.8076\n",
      "Epoch 73/100\n",
      "140/140 - 0s - loss: 0.4728 - accuracy: 0.8503 - val_loss: 0.6660 - val_accuracy: 0.8058\n",
      "Epoch 74/100\n",
      "140/140 - 0s - loss: 0.4803 - accuracy: 0.8480 - val_loss: 0.6694 - val_accuracy: 0.8052\n",
      "Epoch 75/100\n",
      "140/140 - 0s - loss: 0.4780 - accuracy: 0.8497 - val_loss: 0.6766 - val_accuracy: 0.8088\n",
      "Epoch 76/100\n",
      "140/140 - 0s - loss: 0.4782 - accuracy: 0.8496 - val_loss: 0.6958 - val_accuracy: 0.8012\n",
      "Epoch 77/100\n",
      "140/140 - 0s - loss: 0.4645 - accuracy: 0.8540 - val_loss: 0.6661 - val_accuracy: 0.8087\n",
      "Epoch 78/100\n",
      "140/140 - 0s - loss: 0.4632 - accuracy: 0.8542 - val_loss: 0.6461 - val_accuracy: 0.8157\n",
      "Epoch 79/100\n",
      "140/140 - 0s - loss: 0.4686 - accuracy: 0.8534 - val_loss: 0.6672 - val_accuracy: 0.8073\n",
      "Epoch 80/100\n",
      "140/140 - 0s - loss: 0.4727 - accuracy: 0.8510 - val_loss: 0.7112 - val_accuracy: 0.7961\n",
      "Epoch 81/100\n",
      "140/140 - 0s - loss: 0.4617 - accuracy: 0.8568 - val_loss: 0.6721 - val_accuracy: 0.8064\n",
      "Epoch 82/100\n",
      "140/140 - 0s - loss: 0.4654 - accuracy: 0.8542 - val_loss: 0.7021 - val_accuracy: 0.8011\n",
      "Epoch 83/100\n",
      "140/140 - 0s - loss: 0.4481 - accuracy: 0.8597 - val_loss: 0.6898 - val_accuracy: 0.8023\n",
      "Epoch 84/100\n",
      "140/140 - 0s - loss: 0.4550 - accuracy: 0.8573 - val_loss: 0.6900 - val_accuracy: 0.8026\n",
      "Epoch 85/100\n",
      "140/140 - 0s - loss: 0.4466 - accuracy: 0.8603 - val_loss: 0.6558 - val_accuracy: 0.8136\n",
      "Epoch 86/100\n",
      "140/140 - 0s - loss: 0.4511 - accuracy: 0.8581 - val_loss: 0.6573 - val_accuracy: 0.8121\n",
      "Epoch 87/100\n",
      "140/140 - 0s - loss: 0.4414 - accuracy: 0.8608 - val_loss: 0.6683 - val_accuracy: 0.8103\n",
      "Epoch 88/100\n",
      "140/140 - 0s - loss: 0.4511 - accuracy: 0.8586 - val_loss: 0.6762 - val_accuracy: 0.8072\n",
      "Epoch 89/100\n",
      "140/140 - 0s - loss: 0.4368 - accuracy: 0.8628 - val_loss: 0.6834 - val_accuracy: 0.8067\n",
      "Epoch 90/100\n",
      "140/140 - 0s - loss: 0.4559 - accuracy: 0.8571 - val_loss: 0.6634 - val_accuracy: 0.8097\n",
      "Epoch 91/100\n",
      "140/140 - 0s - loss: 0.4465 - accuracy: 0.8602 - val_loss: 0.6845 - val_accuracy: 0.8028\n",
      "Epoch 92/100\n",
      "140/140 - 0s - loss: 0.4448 - accuracy: 0.8605 - val_loss: 0.6693 - val_accuracy: 0.8064\n",
      "Epoch 93/100\n",
      "140/140 - 0s - loss: 0.4378 - accuracy: 0.8609 - val_loss: 0.6737 - val_accuracy: 0.8086\n",
      "Epoch 94/100\n",
      "140/140 - 0s - loss: 0.4373 - accuracy: 0.8623 - val_loss: 0.6686 - val_accuracy: 0.8116\n",
      "Epoch 95/100\n",
      "140/140 - 0s - loss: 0.4398 - accuracy: 0.8611 - val_loss: 0.6471 - val_accuracy: 0.8154\n",
      "Epoch 96/100\n",
      "140/140 - 0s - loss: 0.4230 - accuracy: 0.8660 - val_loss: 0.6706 - val_accuracy: 0.8081\n",
      "Epoch 97/100\n",
      "140/140 - 0s - loss: 0.4216 - accuracy: 0.8679 - val_loss: 0.6584 - val_accuracy: 0.8143\n",
      "Epoch 98/100\n",
      "140/140 - 0s - loss: 0.4219 - accuracy: 0.8656 - val_loss: 0.6835 - val_accuracy: 0.8049\n",
      "Epoch 99/100\n",
      "140/140 - 0s - loss: 0.4191 - accuracy: 0.8684 - val_loss: 0.6739 - val_accuracy: 0.8094\n",
      "Epoch 100/100\n",
      "140/140 - 0s - loss: 0.4129 - accuracy: 0.8687 - val_loss: 0.6921 - val_accuracy: 0.8047\n"
     ]
    }
   ],
   "source": [
    "# Fitting the model\n",
    "training_history = model.fit(X_train, y_train, validation_data=(X_test, y_test), epochs=100, batch_size=300, verbose=2)"
   ]
  },
  {
   "cell_type": "markdown",
   "metadata": {
    "id": "algw3-VGIj-N"
   },
   "source": [
    "## 4. Plotting the training loss, validation loss vs number of epochs and training accuracy, \n",
    "## validation accuracy vs number of epochs plot"
   ]
  },
  {
   "cell_type": "code",
   "execution_count": 19,
   "metadata": {
    "colab": {
     "base_uri": "https://localhost:8080/"
    },
    "id": "FnJ1ivri6raW",
    "outputId": "2fec1e0a-1203-4e6d-90c6-c49f049feed5"
   },
   "outputs": [
    {
     "name": "stdout",
     "output_type": "stream",
     "text": [
      "Loss: 0.6920722126960754\n",
      "Accuracy: 0.804722249507904\n"
     ]
    }
   ],
   "source": [
    "# Final evaluation of the model\n",
    "scores = model.evaluate(X_test, y_test, verbose=0)\n",
    "print(\"Loss:\", scores[0])\n",
    "print(\"Accuracy:\", scores[1])"
   ]
  },
  {
   "cell_type": "code",
   "execution_count": 20,
   "metadata": {
    "colab": {
     "base_uri": "https://localhost:8080/",
     "height": 562
    },
    "id": "KTkKIdERtyIp",
    "outputId": "8f4080ff-a5c2-47db-bbf5-7bc25d781c6e"
   },
   "outputs": [
    {
     "data": {
      "text/plain": [
       "Text(0.5, 1.0, 'Training and validation loss')"
      ]
     },
     "execution_count": 20,
     "metadata": {
      "tags": []
     },
     "output_type": "execute_result"
    },
    {
     "data": {
      "image/png": "[encoded data removed]",
      "text/plain": [
       "<Figure size 432x288 with 1 Axes>"
      ]
     },
     "metadata": {
      "needs_background": "light",
      "tags": []
     },
     "output_type": "display_data"
    },
    {
     "data": {
      "image/png": "[encoded data removed]",
      "text/plain": [
       "<Figure size 432x288 with 1 Axes>"
      ]
     },
     "metadata": {
      "needs_background": "light",
      "tags": []
     },
     "output_type": "display_data"
    }
   ],
   "source": [
    "accuracy      = training_history.history['accuracy']\n",
    "val_accuracy  = training_history.history['val_accuracy']\n",
    "loss     = training_history.history['loss']\n",
    "val_loss = training_history.history['val_loss']\n",
    "\n",
    "epochs   = range(len(accuracy)) # Get number of epochs\n",
    "\n",
    "plt.plot  ( epochs, accuracy, label = 'training accuracy' )\n",
    "plt.plot  ( epochs, val_accuracy, label = 'validation accuracy' )\n",
    "plt.title ('Training and validation accuracy')\n",
    "plt.legend(loc = 'lower right')\n",
    "plt.figure()\n",
    "\n",
    "plt.plot  ( epochs, loss, label = 'training loss' )\n",
    "plt.plot  ( epochs, val_loss, label = 'validation loss' )\n",
    "plt.legend(loc = 'upper right')\n",
    "plt.title ('Training and validation loss'   )"
   ]
  },
  {
   "cell_type": "markdown",
   "metadata": {
    "id": "JS27zSiqIzZ8"
   },
   "source": [
    "There are around 10 classes in the dataset which represent digits from 0-9.\n",
    "\n",
    "We tried training a Neural Network with dense hidden layers of different number of units and are able to achieve a final test accuracy of 80.74 %. \n",
    "\n",
    "Also we notice that after a certain point the model begins to overfit on our dataset as is clear from the plots above where the validation loss begins to increase after certain point and validation accuracy begins to decrease.\n",
    "\n",
    "Thus, with this amount of accuracy we are able to distinguish between the different digits in this dataset.\n"
   ]
  }
 ],
 "metadata": {
  "accelerator": "GPU",
  "colab": {
   "collapsed_sections": [],
   "name": "NN - Project - part IV.ipynb",
   "provenance": []
  },
  "kernelspec": {
   "display_name": "Python 3",
   "language": "python",
   "name": "python3"
  },
  "language_info": {
   "codemirror_mode": {
    "name": "ipython",
    "version": 3
   },
   "file_extension": ".py",
   "mimetype": "text/x-python",
   "name": "python",
   "nbconvert_exporter": "python",
   "pygments_lexer": "ipython3",
   "version": "3.7.6"
  }
 },
 "nbformat": 4,
 "nbformat_minor": 1
}
